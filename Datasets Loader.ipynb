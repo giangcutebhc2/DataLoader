{
 "cells": [
  {
   "attachments": {},
   "cell_type": "markdown",
   "id": "f8f24613",
   "metadata": {},
   "source": [
    "# Datasets loader for Pytorch"
   ]
  },
  {
   "cell_type": "code",
   "execution_count": 1,
   "id": "962848fd",
   "metadata": {},
   "outputs": [],
   "source": [
    "import torch\n",
    "import torchvision\n",
    "from torchvision import transforms\n",
    "\n",
    "# Define the dataset and transforms\n",
    "dataset = torchvision.datasets.ImageFolder(root='./data/hymenoptera_data/train', transform=transforms.ToTensor())\n",
    "\n",
    "# Define the dataloader\n",
    "dataloader = torch.utils.data.DataLoader(dataset, batch_size=32, shuffle=True, num_workers=4)"
   ]
  },
  {
   "cell_type": "markdown",
   "id": "0ee2e7b8",
   "metadata": {},
   "source": [
    "Custom datasets"
   ]
  },
  {
   "cell_type": "code",
   "execution_count": 2,
   "id": "4bfcdb2b",
   "metadata": {},
   "outputs": [],
   "source": [
    "from torch.utils.data import Dataset\n",
    "import pandas as pd\n",
    "\n",
    "#Create Custome Dataset\n",
    "class CustomImageDataset(Dataset):\n",
    "    def __init__(self, annotations_file, img_dir, transform=None, target_transform=None): \n",
    "        self.img_labels = pd.read_csv(annotations_file)   #Create img_labels to save name and label of each images\n",
    "        self.img_dir = img_dir                            #Assign the path to the directory which containing the images\n",
    "        self.transform = transform                        #Transform Image for training\n",
    "        self.target_transform = target_transform          #Transform labels for true output\n",
    "    def __len__(self):\n",
    "        return len(self.img_labels)\n",
    "    def __getitem__(self, idx):\n",
    "        img_path = os.path.join(self.img_dir, self.img_labels.iloc[idx, 0])   #Full path of each images\n",
    "        image = read_image(img_path)/255                                      #Read image\n",
    "        label = self.img_labels.iloc[idx, 1]                                  #Get label for each image\n",
    "        \n",
    "        #Covert Grayscale to RGB\n",
    "        if image.shape[0] == 1:\n",
    "            image = torch.cat([image, image, image], dim=0)\n",
    "            \n",
    "        #Add transform if necessary\n",
    "        if self.transform:\n",
    "            image = self.transform(image)\n",
    "        if self.target_transform:\n",
    "            label = self.target_transform(label)\n",
    "        \n",
    "        return self.img_labels.iloc[idx, 0],image, label           #return name of images, image in tensor array and label"
   ]
  },
  {
   "cell_type": "code",
   "execution_count": 3,
   "id": "1f42586d",
   "metadata": {},
   "outputs": [],
   "source": [
    "#Some tranform\n",
    "data_transforms = {\n",
    "    'train': transforms.Compose([\n",
    "        transforms.RandomResizedCrop(224),\n",
    "        transforms.RandomHorizontalFlip(),\n",
    "        transforms.Normalize([0.485, 0.456, 0.406], [0.229, 0.224, 0.225])\n",
    "    ]),\n",
    "    'val': transforms.Compose([\n",
    "        transforms.Resize(256),\n",
    "        transforms.CenterCrop(224),\n",
    "        transforms.Normalize([0.485, 0.456, 0.406], [0.229, 0.224, 0.225])\n",
    "    ]),\n",
    "}\n"
   ]
  },
  {
   "cell_type": "code",
   "execution_count": 4,
   "id": "dfe530d8",
   "metadata": {},
   "outputs": [],
   "source": [
    "data_dir = './datasets/images'\n",
    "\n",
    "#Create dataloader for data train\n",
    "data_train =  CustomImageDataset(\"./datasets/TrainSplit.csv\",data_dir,transform = data_transforms['train'])\n",
    "dataloader_train = torch.utils.data.DataLoader(data_train, batch_size = 1, shuffle=True,drop_last=True)"
   ]
  },
  {
   "cell_type": "code",
   "execution_count": 5,
   "id": "eb0c87de",
   "metadata": {
    "scrolled": true
   },
   "outputs": [
    {
     "data": {
      "text/plain": [
       "3751"
      ]
     },
     "execution_count": 5,
     "metadata": {},
     "output_type": "execute_result"
    }
   ],
   "source": [
    "#checking\n",
    "len(dataloader_train)"
   ]
  },
  {
   "cell_type": "markdown",
   "id": "91acb010",
   "metadata": {},
   "source": [
    "# Datasets loader for TensorFlow"
   ]
  },
  {
   "cell_type": "code",
   "execution_count": 6,
   "id": "53ca5a8d",
   "metadata": {},
   "outputs": [
    {
     "name": "stdout",
     "output_type": "stream",
     "text": [
      "Found 245 files belonging to 2 classes.\n"
     ]
    }
   ],
   "source": [
    "import tensorflow as tf\n",
    "\n",
    "# Define the dataset and transforms\n",
    "dataset = tf.keras.preprocessing.image_dataset_from_directory(\n",
    "    './data/hymenoptera_data/train',     #directory of folder\n",
    "    batch_size=32,\n",
    "    image_size=(224, 224),\n",
    "    seed=123\n",
    ")\n",
    "\n",
    "# Define the dataloader\n",
    "dataloader = dataset.prefetch(buffer_size=tf.data.AUTOTUNE)"
   ]
  },
  {
   "cell_type": "markdown",
   "id": "575fe7c6",
   "metadata": {},
   "source": [
    "Custom datasets"
   ]
  },
  {
   "cell_type": "code",
   "execution_count": 7,
   "id": "072b16f8",
   "metadata": {},
   "outputs": [
    {
     "data": {
      "text/plain": [
       "3751"
      ]
     },
     "execution_count": 7,
     "metadata": {},
     "output_type": "execute_result"
    }
   ],
   "source": [
    "import os\n",
    "os.environ[\"TF_CPP_MIN_LOG_LEVEL\"] = \"2\"  #set the environment variable to suppress Tensorflow warning messages\n",
    "import tensorflow as tf\n",
    "import pandas as pd\n",
    "from tensorflow import keras\n",
    "from tensorflow.keras import layers\n",
    "directory = './datasets/images'\n",
    "df = pd.read_csv('./datasets/TrainSplit.csv')     #get data from csv file\n",
    "file_paths = df['image'].values                   #get image name\n",
    "labels = df['category'].values                    #get label of each image\n",
    "ds_train = tf.data.Dataset.from_tensor_slices((file_paths, labels))     #create datasets\n",
    "\n",
    "def read_image(image_file,label):\n",
    "    image = tf.io.read_file(directory + image_file)                         #read image\n",
    "    image = tf.image.decode_image(image, channels = 3, dtype = tf.float32)  #decode image\n",
    "    return image,label\n",
    "\n",
    "def augment(image,label):\n",
    "    return image,label\n",
    "\n",
    "ds_train = ds_train.map(read_image).map(augment).batch(1)   #datasets with the decoded images their corresponding labels\n",
    "len(ds_train)"
   ]
  },
  {
   "cell_type": "code",
   "execution_count": null,
   "id": "e9757e38",
   "metadata": {},
   "outputs": [],
   "source": []
  }
 ],
 "metadata": {
  "kernelspec": {
   "display_name": "Python 3 (ipykernel)",
   "language": "python",
   "name": "python3"
  },
  "language_info": {
   "codemirror_mode": {
    "name": "ipython",
    "version": 3
   },
   "file_extension": ".py",
   "mimetype": "text/x-python",
   "name": "python",
   "nbconvert_exporter": "python",
   "pygments_lexer": "ipython3",
   "version": "3.11.2"
  }
 },
 "nbformat": 4,
 "nbformat_minor": 5
}
